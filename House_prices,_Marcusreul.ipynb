{
  "metadata": {
    "kernelspec": {
      "language": "python",
      "display_name": "Python 3",
      "name": "python3"
    },
    "language_info": {
      "name": "python",
      "version": "3.10.13",
      "mimetype": "text/x-python",
      "codemirror_mode": {
        "name": "ipython",
        "version": 3
      },
      "pygments_lexer": "ipython3",
      "nbconvert_exporter": "python",
      "file_extension": ".py"
    },
    "kaggle": {
      "accelerator": "none",
      "dataSources": [
        {
          "sourceId": 5407,
          "databundleVersionId": 868283,
          "sourceType": "competition"
        },
        {
          "sourceId": 8209510,
          "sourceType": "datasetVersion",
          "datasetId": 4864911
        }
      ],
      "dockerImageVersionId": 30698,
      "isInternetEnabled": true,
      "language": "python",
      "sourceType": "notebook",
      "isGpuEnabled": false
    },
    "colab": {
      "provenance": [],
      "include_colab_link": true
    }
  },
  "nbformat_minor": 0,
  "nbformat": 4,
  "cells": [
    {
      "cell_type": "markdown",
      "metadata": {
        "id": "view-in-github",
        "colab_type": "text"
      },
      "source": [
        "<a href=\"https://colab.research.google.com/github/Marcusreu1/House-prices/blob/main/House_prices%2C_Marcusreul.ipynb\" target=\"_parent\"><img src=\"https://colab.research.google.com/assets/colab-badge.svg\" alt=\"Open In Colab\"/></a>"
      ]
    },
    {
      "source": [
        "\n",
        "# IMPORTANT: RUN THIS CELL IN ORDER TO IMPORT YOUR KAGGLE DATA SOURCES\n",
        "# TO THE CORRECT LOCATION (/kaggle/input) IN YOUR NOTEBOOK,\n",
        "# THEN FEEL FREE TO DELETE THIS CELL.\n",
        "# NOTE: THIS NOTEBOOK ENVIRONMENT DIFFERS FROM KAGGLE'S PYTHON\n",
        "# ENVIRONMENT SO THERE MAY BE MISSING LIBRARIES USED BY YOUR\n",
        "# NOTEBOOK.\n",
        "\n",
        "import os\n",
        "import sys\n",
        "from tempfile import NamedTemporaryFile\n",
        "from urllib.request import urlopen\n",
        "from urllib.parse import unquote, urlparse\n",
        "from urllib.error import HTTPError\n",
        "from zipfile import ZipFile\n",
        "import tarfile\n",
        "import shutil\n",
        "\n",
        "CHUNK_SIZE = 40960\n",
        "DATA_SOURCE_MAPPING = 'house-prices-advanced-regression-techniques:https%3A%2F%2Fstorage.googleapis.com%2Fkaggle-competitions-data%2Fkaggle-v2%2F5407%2F868283%2Fbundle%2Farchive.zip%3FX-Goog-Algorithm%3DGOOG4-RSA-SHA256%26X-Goog-Credential%3Dgcp-kaggle-com%2540kaggle-161607.iam.gserviceaccount.com%252F20240427%252Fauto%252Fstorage%252Fgoog4_request%26X-Goog-Date%3D20240427T010729Z%26X-Goog-Expires%3D259200%26X-Goog-SignedHeaders%3Dhost%26X-Goog-Signature%3D355b2bd94034612a725c68265753488160fc65d9bfc652e1ee402f0a1bd22b70888e85b6f546e40e862af78be02d2aa7c2749f4f1c2ddb913f0ca4a83be9d3b353861467e15917a58c0142226d942daaffba0ec217184381868dff137b7f271fad02be7e5babdc1d668c75d88c4a24da1322d4273bb1610f0a1a9d580703289d0c885b8af4879523a1b124d31b648cef2180202cd6665816ac3986f755226c0ff8b932eecd336bfed5e226daac0fefdfe9c777d2953819e8d7e7a6cc56656fdf53ae434e31708991b130e9365ad65315ea3660fb809cbe44844ef1a34c54a99b2e5817088bcbad2f73a82f4d08451d8bd514be6b81e51b1a79eedeb4142d4ddc,house-prices:https%3A%2F%2Fstorage.googleapis.com%2Fkaggle-data-sets%2F4864911%2F8209510%2Fbundle%2Farchive.zip%3FX-Goog-Algorithm%3DGOOG4-RSA-SHA256%26X-Goog-Credential%3Dgcp-kaggle-com%2540kaggle-161607.iam.gserviceaccount.com%252F20240427%252Fauto%252Fstorage%252Fgoog4_request%26X-Goog-Date%3D20240427T010729Z%26X-Goog-Expires%3D259200%26X-Goog-SignedHeaders%3Dhost%26X-Goog-Signature%3D663e074327ffd29f71945464af90e148e80053d5972ba109acb07de301236226d148b15489f60bde62846a928d102820203c2af1b5ca14f2078b5971741cd37b7fa5dcd445b3de6e6bc89d53ac245cc0c05bf32e95607b21392526077fdb16758d3c1955bd1ddf8324fba5fd50b5c883d696ea753788d9b56d26d1e131b3d6a14bcfdfe782cc7c3f1e90fc8b28865d8e0fabe407d92ff8255c222965c896f29c5bd026db06315d0de27bd37104ddc2651af13db42c46d0d9a2008ae99b11103f649a0ae8cf4fb86bf3f3b77feb2b58004d9f29fd6dd4a31f2718f92d9e92f3b0ef6591a20ebfc3f8fe3fa7f63bc1f136e1e4581d7765667dcff59558432df8f8'\n",
        "\n",
        "KAGGLE_INPUT_PATH='/kaggle/input'\n",
        "KAGGLE_WORKING_PATH='/kaggle/working'\n",
        "KAGGLE_SYMLINK='kaggle'\n",
        "\n",
        "!umount /kaggle/input/ 2> /dev/null\n",
        "shutil.rmtree('/kaggle/input', ignore_errors=True)\n",
        "os.makedirs(KAGGLE_INPUT_PATH, 0o777, exist_ok=True)\n",
        "os.makedirs(KAGGLE_WORKING_PATH, 0o777, exist_ok=True)\n",
        "\n",
        "try:\n",
        "  os.symlink(KAGGLE_INPUT_PATH, os.path.join(\"..\", 'input'), target_is_directory=True)\n",
        "except FileExistsError:\n",
        "  pass\n",
        "try:\n",
        "  os.symlink(KAGGLE_WORKING_PATH, os.path.join(\"..\", 'working'), target_is_directory=True)\n",
        "except FileExistsError:\n",
        "  pass\n",
        "\n",
        "for data_source_mapping in DATA_SOURCE_MAPPING.split(','):\n",
        "    directory, download_url_encoded = data_source_mapping.split(':')\n",
        "    download_url = unquote(download_url_encoded)\n",
        "    filename = urlparse(download_url).path\n",
        "    destination_path = os.path.join(KAGGLE_INPUT_PATH, directory)\n",
        "    try:\n",
        "        with urlopen(download_url) as fileres, NamedTemporaryFile() as tfile:\n",
        "            total_length = fileres.headers['content-length']\n",
        "            print(f'Downloading {directory}, {total_length} bytes compressed')\n",
        "            dl = 0\n",
        "            data = fileres.read(CHUNK_SIZE)\n",
        "            while len(data) > 0:\n",
        "                dl += len(data)\n",
        "                tfile.write(data)\n",
        "                done = int(50 * dl / int(total_length))\n",
        "                sys.stdout.write(f\"\\r[{'=' * done}{' ' * (50-done)}] {dl} bytes downloaded\")\n",
        "                sys.stdout.flush()\n",
        "                data = fileres.read(CHUNK_SIZE)\n",
        "            if filename.endswith('.zip'):\n",
        "              with ZipFile(tfile) as zfile:\n",
        "                zfile.extractall(destination_path)\n",
        "            else:\n",
        "              with tarfile.open(tfile.name) as tarfile:\n",
        "                tarfile.extractall(destination_path)\n",
        "            print(f'\\nDownloaded and uncompressed: {directory}')\n",
        "    except HTTPError as e:\n",
        "        print(f'Failed to load (likely expired) {download_url} to path {destination_path}')\n",
        "        continue\n",
        "    except OSError as e:\n",
        "        print(f'Failed to load {download_url} to path {destination_path}')\n",
        "        continue\n",
        "\n",
        "print('Data source import complete.')\n"
      ],
      "metadata": {
        "id": "uqElH4VXGo1B"
      },
      "cell_type": "code",
      "outputs": [],
      "execution_count": null
    },
    {
      "cell_type": "markdown",
      "source": [
        "# importar librerias"
      ],
      "metadata": {
        "id": "75k8vtE3Go1D"
      }
    },
    {
      "cell_type": "code",
      "source": [
        "import pandas as pd\n",
        "import matplotlib.pyplot as plt\n",
        "import numpy as np"
      ],
      "metadata": {
        "execution": {
          "iopub.status.busy": "2024-04-25T18:13:05.634297Z",
          "iopub.execute_input": "2024-04-25T18:13:05.634711Z",
          "iopub.status.idle": "2024-04-25T18:13:06.736186Z",
          "shell.execute_reply.started": "2024-04-25T18:13:05.634677Z",
          "shell.execute_reply": "2024-04-25T18:13:06.734935Z"
        },
        "trusted": true,
        "id": "YntrCYRsGo1F"
      },
      "execution_count": null,
      "outputs": []
    },
    {
      "cell_type": "markdown",
      "source": [
        "# leer data"
      ],
      "metadata": {
        "id": "yQmGkGxHGo1F"
      }
    },
    {
      "cell_type": "code",
      "source": [
        "df_train=pd.read_csv('/kaggle/input/house-prices/House prices/test house prices.csv')\n",
        "df_test=pd.read_csv('/kaggle/input/house-prices/House prices/train house prices.csv')"
      ],
      "metadata": {
        "execution": {
          "iopub.status.busy": "2024-04-25T18:13:06.738083Z",
          "iopub.execute_input": "2024-04-25T18:13:06.73863Z",
          "iopub.status.idle": "2024-04-25T18:13:06.819132Z",
          "shell.execute_reply.started": "2024-04-25T18:13:06.738602Z",
          "shell.execute_reply": "2024-04-25T18:13:06.817224Z"
        },
        "trusted": true,
        "id": "khyNvmEEGo1F"
      },
      "execution_count": null,
      "outputs": []
    },
    {
      "cell_type": "markdown",
      "source": [
        "# concatenar"
      ],
      "metadata": {
        "id": "jxbzcGxmGo1G"
      }
    },
    {
      "cell_type": "code",
      "source": [
        "df=pd.concat([df_train,df_test])"
      ],
      "metadata": {
        "execution": {
          "iopub.status.busy": "2024-04-25T18:13:06.826477Z",
          "iopub.execute_input": "2024-04-25T18:13:06.827385Z",
          "iopub.status.idle": "2024-04-25T18:13:06.846384Z",
          "shell.execute_reply.started": "2024-04-25T18:13:06.827346Z",
          "shell.execute_reply": "2024-04-25T18:13:06.845025Z"
        },
        "trusted": true,
        "id": "52NjZIkyGo1G"
      },
      "execution_count": null,
      "outputs": []
    },
    {
      "cell_type": "markdown",
      "source": [
        "# calidad y limpieza de datos"
      ],
      "metadata": {
        "id": "QPOwkx1VGo1G"
      }
    },
    {
      "cell_type": "markdown",
      "source": [
        "## vision general"
      ],
      "metadata": {
        "id": "xQnkQ6MUGo1G"
      }
    },
    {
      "cell_type": "code",
      "source": [
        "df.sample(5)"
      ],
      "metadata": {
        "execution": {
          "iopub.status.busy": "2024-04-25T18:13:06.848898Z",
          "iopub.execute_input": "2024-04-25T18:13:06.849258Z",
          "iopub.status.idle": "2024-04-25T18:13:06.887558Z",
          "shell.execute_reply.started": "2024-04-25T18:13:06.849229Z",
          "shell.execute_reply": "2024-04-25T18:13:06.886246Z"
        },
        "trusted": true,
        "id": "N1PSmyGsGo1G"
      },
      "execution_count": null,
      "outputs": []
    },
    {
      "cell_type": "code",
      "source": [
        "df.shape"
      ],
      "metadata": {
        "execution": {
          "iopub.status.busy": "2024-04-25T18:13:06.889275Z",
          "iopub.execute_input": "2024-04-25T18:13:06.889574Z",
          "iopub.status.idle": "2024-04-25T18:13:06.896444Z",
          "shell.execute_reply.started": "2024-04-25T18:13:06.88955Z",
          "shell.execute_reply": "2024-04-25T18:13:06.894921Z"
        },
        "trusted": true,
        "id": "h5pJ_WsrGo1G"
      },
      "execution_count": null,
      "outputs": []
    },
    {
      "cell_type": "markdown",
      "source": [
        "## tipo de datos"
      ],
      "metadata": {
        "id": "j5HVKmdRGo1H"
      }
    },
    {
      "cell_type": "code",
      "source": [
        "df.info()"
      ],
      "metadata": {
        "execution": {
          "iopub.status.busy": "2024-04-25T18:13:06.898199Z",
          "iopub.execute_input": "2024-04-25T18:13:06.89867Z",
          "iopub.status.idle": "2024-04-25T18:13:06.93573Z",
          "shell.execute_reply.started": "2024-04-25T18:13:06.89861Z",
          "shell.execute_reply": "2024-04-25T18:13:06.93438Z"
        },
        "trusted": true,
        "id": "X4L8DBT8Go1H"
      },
      "execution_count": null,
      "outputs": []
    },
    {
      "cell_type": "markdown",
      "source": [
        "## valores unicos por columna"
      ],
      "metadata": {
        "id": "MW1Qan1GGo1H"
      }
    },
    {
      "cell_type": "code",
      "source": [
        "columnas_categoricas = df.select_dtypes(include=['object']).columns\n",
        "\n",
        "for column in columnas_categoricas:\n",
        "  print(f\"{column}: {df[column].unique()}\")"
      ],
      "metadata": {
        "execution": {
          "iopub.status.busy": "2024-04-25T18:13:06.938759Z",
          "iopub.execute_input": "2024-04-25T18:13:06.939176Z",
          "iopub.status.idle": "2024-04-25T18:13:06.962596Z",
          "shell.execute_reply.started": "2024-04-25T18:13:06.939139Z",
          "shell.execute_reply": "2024-04-25T18:13:06.960811Z"
        },
        "trusted": true,
        "id": "uMOapHl7Go1H"
      },
      "execution_count": null,
      "outputs": []
    },
    {
      "cell_type": "markdown",
      "source": [
        "## valores duplicados"
      ],
      "metadata": {
        "id": "w8VkjEkOGo1H"
      }
    },
    {
      "cell_type": "code",
      "source": [
        "df.duplicated().sum()"
      ],
      "metadata": {
        "execution": {
          "iopub.status.busy": "2024-04-25T18:13:06.964362Z",
          "iopub.execute_input": "2024-04-25T18:13:06.964652Z",
          "iopub.status.idle": "2024-04-25T18:13:06.990763Z",
          "shell.execute_reply.started": "2024-04-25T18:13:06.964628Z",
          "shell.execute_reply": "2024-04-25T18:13:06.989274Z"
        },
        "trusted": true,
        "id": "7xsvZcr1Go1H"
      },
      "execution_count": null,
      "outputs": []
    },
    {
      "cell_type": "markdown",
      "source": [
        "## valores nulos"
      ],
      "metadata": {
        "id": "jM1_aCtYGo1I"
      }
    },
    {
      "cell_type": "code",
      "source": [
        "pd.set_option('display.max_rows', None)\n",
        "df.isnull().sum().sort_values(ascending = False)"
      ],
      "metadata": {
        "execution": {
          "iopub.status.busy": "2024-04-25T18:13:06.995796Z",
          "iopub.execute_input": "2024-04-25T18:13:06.996256Z",
          "iopub.status.idle": "2024-04-25T18:13:07.01687Z",
          "shell.execute_reply.started": "2024-04-25T18:13:06.996227Z",
          "shell.execute_reply": "2024-04-25T18:13:07.0151Z"
        },
        "trusted": true,
        "id": "VYgXpDdsGo1I"
      },
      "execution_count": null,
      "outputs": []
    },
    {
      "cell_type": "markdown",
      "source": [
        "### conclusiones\n",
        "* dejar Saleprice para separar mas adelante\n",
        "* PoolQC,MiscFeauture,Alley,Fence,MasVnrType, FirePlaceQU,LotFrontage tienen demasiados nulos ---> eliminar variables\n",
        "* GarageYrBlt,GarageFinish,GarageQual,GarageCond,GarageType,BsmtExposure,BsmtCond,BsmtQual,BsmtFinType2,BsmtFinType1,MasVnrArea,  MSZoning,Functional,BsmtFullBath,Utilities,BsmtHalfBath,Electrical,TotalBsmtSF,BsmtUnfSF,KitchenQual,BsmtFinSF2,BsmtFinSF1,    SaleType,GarageCars,Exterior2nd,Exterior1st,GarageArea ---> imputarlos tras eda"
      ],
      "metadata": {
        "id": "LwX2wiOaGo1I"
      }
    },
    {
      "cell_type": "code",
      "source": [
        "pd.reset_option('display.max_rows')\n",
        "df.drop(columns=['PoolQC','MiscFeature','Alley','Fence','MasVnrType', 'FireplaceQu','LotFrontage'], inplace=True)\n",
        "df"
      ],
      "metadata": {
        "execution": {
          "iopub.status.busy": "2024-04-25T18:13:07.018183Z",
          "iopub.execute_input": "2024-04-25T18:13:07.019032Z",
          "iopub.status.idle": "2024-04-25T18:13:07.048806Z",
          "shell.execute_reply.started": "2024-04-25T18:13:07.019008Z",
          "shell.execute_reply": "2024-04-25T18:13:07.04802Z"
        },
        "trusted": true,
        "id": "VYq_6hGBGo1I"
      },
      "execution_count": null,
      "outputs": []
    },
    {
      "cell_type": "code",
      "source": [
        "pd.set_option('display.max_rows', None)\n",
        "df.isnull().sum().sort_values(ascending = False)"
      ],
      "metadata": {
        "execution": {
          "iopub.status.busy": "2024-04-25T18:13:07.049913Z",
          "iopub.execute_input": "2024-04-25T18:13:07.050234Z",
          "iopub.status.idle": "2024-04-25T18:13:07.065357Z",
          "shell.execute_reply.started": "2024-04-25T18:13:07.05021Z",
          "shell.execute_reply": "2024-04-25T18:13:07.063984Z"
        },
        "trusted": true,
        "id": "ctrN3XJ6Go1I"
      },
      "execution_count": null,
      "outputs": []
    },
    {
      "cell_type": "markdown",
      "source": [
        "# EDA"
      ],
      "metadata": {
        "id": "KOj6B1DcGo1I"
      }
    },
    {
      "cell_type": "markdown",
      "source": [
        "## variables categoricas"
      ],
      "metadata": {
        "id": "9mpdff2dGo1J"
      }
    },
    {
      "cell_type": "code",
      "source": [
        "def graficos_eda_categoricos(cat):\n",
        "\n",
        "    #Calculamos el número de filas que necesitamos\n",
        "    from math import ceil\n",
        "    filas = ceil(cat.shape[1] / 2)\n",
        "\n",
        "    #Definimos el gráfico\n",
        "    f, ax = plt.subplots(nrows = filas, ncols = 2, figsize = (16, filas * 6))\n",
        "\n",
        "    #Aplanamos para iterar por el gráfico como si fuera de 1 dimensión en lugar de 2\n",
        "    ax = ax.flat\n",
        "\n",
        "    #Creamos el bucle que va añadiendo gráficos\n",
        "    for cada, variable in enumerate(cat):\n",
        "        cat[variable].value_counts().plot.barh(ax = ax[cada])\n",
        "        ax[cada].set_title(variable, fontsize = 12, fontweight = \"bold\")\n",
        "        ax[cada].tick_params(labelsize = 12)\n",
        "\n",
        "\n",
        "graficos_eda_categoricos(df.select_dtypes('O'))"
      ],
      "metadata": {
        "execution": {
          "iopub.status.busy": "2024-04-25T18:13:07.066753Z",
          "iopub.execute_input": "2024-04-25T18:13:07.067615Z",
          "iopub.status.idle": "2024-04-25T18:13:14.376653Z",
          "shell.execute_reply.started": "2024-04-25T18:13:07.067584Z",
          "shell.execute_reply": "2024-04-25T18:13:14.375247Z"
        },
        "trusted": true,
        "id": "3HhwnpAxGo1J"
      },
      "execution_count": null,
      "outputs": []
    },
    {
      "cell_type": "code",
      "source": [
        "categorias = {'Categorica': [], 'Numerica': []}\n",
        "\n",
        "\n",
        "for columna in df.columns:\n",
        "    if df[columna].isnull().any():\n",
        "        if df[columna].dtype == 'object':\n",
        "            categorias['Categorica'].append(columna)\n",
        "        elif df[columna].dtype in ['int64', 'float64']:\n",
        "            categorias['Numerica'].append(columna)\n",
        "\n",
        "# Imprimir las categorías con nulos\n",
        "print('Categoricas:', categorias['Categorica'])\n",
        "print('Numericas:', categorias['Numerica'])\n"
      ],
      "metadata": {
        "execution": {
          "iopub.status.busy": "2024-04-25T18:13:14.378054Z",
          "iopub.execute_input": "2024-04-25T18:13:14.378448Z",
          "iopub.status.idle": "2024-04-25T18:13:14.406402Z",
          "shell.execute_reply.started": "2024-04-25T18:13:14.378412Z",
          "shell.execute_reply": "2024-04-25T18:13:14.405088Z"
        },
        "trusted": true,
        "id": "G6OyUgs0Go1J"
      },
      "execution_count": null,
      "outputs": []
    },
    {
      "cell_type": "markdown",
      "source": [
        "### conclusiones\n",
        "* Street,Heating,RoofMatl,Condition2,Utilities solo tiene valor en una variable ---> eliminar\n",
        "* GarageCond ---> imputar por TA\n",
        "* GarageFinish ---> imputar por Unf\n",
        "* GarageQual ---> imputar por TA\n",
        "* GarageType --->Attchd\n",
        "* MSZoning ---> RL\n",
        "* Exterior1st --->VinylSd\n",
        "* Exterior 2nd ---> VinylSd\n",
        "* BsmtQual ---> TA\n",
        "* BsmtCond ---> TA\n",
        "* BsmtExposure ---> No\n",
        "* BsmtFinType1--->Unf\n",
        "* BsmtFinType2--->Unf\n",
        "* Electrical --->SBrkr\n",
        "* KitchenQual --->TA\n",
        "* Functional --->Typ\n",
        "* SaleType--->WD\n"
      ],
      "metadata": {
        "id": "ssv0YuX4Go1J"
      }
    },
    {
      "cell_type": "code",
      "source": [
        "# Eliminar columnas con un solo valor único\n",
        "df.drop(columns=['Street', 'Heating', 'RoofMatl', 'Condition2', 'Utilities'], inplace=True)\n",
        "\n",
        "# Imputar valores nulos con los valores especificados\n",
        "df['GarageCond'] = df['GarageCond'].fillna('TA')\n",
        "df['GarageFinish'] = df['GarageFinish'].fillna('Unf')\n",
        "df['GarageQual'] = df['GarageQual'].fillna('TA')\n",
        "df['GarageType'] = df['GarageType'].fillna('Attchd')\n",
        "df['MSZoning'] = df['MSZoning'].fillna('RL')\n",
        "df['Exterior1st'] = df['Exterior1st'].fillna('VinylSd')\n",
        "df['Exterior2nd'] = df['Exterior2nd'].fillna('VinylSd')\n",
        "df['BsmtQual'] = df['BsmtQual'].fillna('TA')\n",
        "df['BsmtCond'] = df['BsmtCond'].fillna('TA')\n",
        "df['BsmtExposure'] = df['BsmtExposure'].fillna('No')\n",
        "df['BsmtFinType1'] = df['BsmtFinType1'].fillna('Unf')\n",
        "df['BsmtFinType2'] = df['BsmtFinType2'].fillna('Unf')\n",
        "df['Electrical'] = df['Electrical'].fillna('SBrkr')\n",
        "df['KitchenQual'] = df['KitchenQual'].fillna('TA')\n",
        "df['Functional'] = df['Functional'].fillna('Typ')\n",
        "df['SaleType'] = df['SaleType'].fillna('WD')\n"
      ],
      "metadata": {
        "execution": {
          "iopub.status.busy": "2024-04-25T18:13:14.40769Z",
          "iopub.execute_input": "2024-04-25T18:13:14.407992Z",
          "iopub.status.idle": "2024-04-25T18:13:14.4315Z",
          "shell.execute_reply.started": "2024-04-25T18:13:14.407966Z",
          "shell.execute_reply": "2024-04-25T18:13:14.430105Z"
        },
        "trusted": true,
        "id": "azvt535fGo1J"
      },
      "execution_count": null,
      "outputs": []
    },
    {
      "cell_type": "markdown",
      "source": [
        "#### comprobar que no quedo ningun nulo en las categoricas"
      ],
      "metadata": {
        "id": "P3GiILjuGo1K"
      }
    },
    {
      "cell_type": "code",
      "source": [
        "categorias = {'Categorica': [], 'Numerica': []}\n",
        "\n",
        "\n",
        "for columna in df.columns:\n",
        "    if df[columna].isnull().any():\n",
        "        if df[columna].dtype == 'object':\n",
        "            categorias['Categorica'].append(columna)\n",
        "        elif df[columna].dtype in ['int64', 'float64']:\n",
        "            categorias['Numerica'].append(columna)\n",
        "\n",
        "# Imprimir las categorías con nulos\n",
        "print('Categoricas:', categorias['Categorica'])\n",
        "print('Numericas:', categorias['Numerica'])"
      ],
      "metadata": {
        "execution": {
          "iopub.status.busy": "2024-04-25T18:13:14.433043Z",
          "iopub.execute_input": "2024-04-25T18:13:14.433423Z",
          "iopub.status.idle": "2024-04-25T18:13:14.454702Z",
          "shell.execute_reply.started": "2024-04-25T18:13:14.433396Z",
          "shell.execute_reply": "2024-04-25T18:13:14.453759Z"
        },
        "trusted": true,
        "id": "RSJfQXXoGo1K"
      },
      "execution_count": null,
      "outputs": []
    },
    {
      "cell_type": "markdown",
      "source": [
        "## variables numericas\n"
      ],
      "metadata": {
        "id": "Pvla4tXjGo1K"
      }
    },
    {
      "cell_type": "code",
      "source": [
        "def estadisticos_cont(num):\n",
        "    # Calculamos describe\n",
        "    estadisticos = num.describe().T\n",
        "    # Añadimos la mediana\n",
        "    estadisticos['median'] = num.median()\n",
        "    # Añadimos la moda. Usamos apply para calcular la moda de cada columna por separado.\n",
        "    estadisticos['moda'] = num.apply(lambda x: x.mode().get(0, None))\n",
        "\n",
        "    # Reordenamos para que la mediana y la moda estén al lado de la media\n",
        "    estadisticos = estadisticos.iloc[:, [0, 1, 8, 9, 2, 3, 4, 5, 6, 7]]\n",
        "    # Lo devolvemos\n",
        "    return(estadisticos)\n",
        "\n",
        "# Llamamos a la función con el DataFrame 'df' que contiene solo columnas numéricas\n",
        "estadisticos_cont(df.select_dtypes('number'))\n"
      ],
      "metadata": {
        "execution": {
          "iopub.status.busy": "2024-04-25T18:13:14.456088Z",
          "iopub.execute_input": "2024-04-25T18:13:14.456394Z",
          "iopub.status.idle": "2024-04-25T18:13:14.569489Z",
          "shell.execute_reply.started": "2024-04-25T18:13:14.456371Z",
          "shell.execute_reply": "2024-04-25T18:13:14.568346Z"
        },
        "trusted": true,
        "id": "iGGclpZbGo1K"
      },
      "execution_count": null,
      "outputs": []
    },
    {
      "cell_type": "code",
      "source": [
        "# Lista de columnas para imputar con la moda\n",
        "columnas_para_imputar = ['MasVnrArea', 'BsmtFinSF1', 'BsmtFinSF2', 'BsmtUnfSF', 'TotalBsmtSF',\n",
        "                         'BsmtFullBath', 'BsmtHalfBath', 'GarageYrBlt', 'GarageCars', 'GarageArea']\n",
        "\n",
        "# Imputar la moda en las columnas especificadas\n",
        "for columna in columnas_para_imputar:\n",
        "    moda = df[columna].mode()[0]\n",
        "    df.loc[df[columna].isnull(), columna] = moda\n",
        "\n",
        "\n",
        "\n"
      ],
      "metadata": {
        "execution": {
          "iopub.status.busy": "2024-04-25T18:13:14.570663Z",
          "iopub.execute_input": "2024-04-25T18:13:14.570958Z",
          "iopub.status.idle": "2024-04-25T18:13:14.585716Z",
          "shell.execute_reply.started": "2024-04-25T18:13:14.570933Z",
          "shell.execute_reply": "2024-04-25T18:13:14.58422Z"
        },
        "trusted": true,
        "id": "UahebPQrGo1K"
      },
      "execution_count": null,
      "outputs": []
    },
    {
      "cell_type": "code",
      "source": [
        "categorias = {'Categorica': [], 'Numerica': []}\n",
        "\n",
        "\n",
        "for columna in df.columns:\n",
        "    if df[columna].isnull().any():\n",
        "        if df[columna].dtype == 'object':\n",
        "            categorias['Categorica'].append(columna)\n",
        "        elif df[columna].dtype in ['int64', 'float64']:\n",
        "            categorias['Numerica'].append(columna)\n",
        "\n",
        "# Imprimir las categorías con nulos\n",
        "print('Categoricas:', categorias['Categorica'])\n",
        "print('Numericas:', categorias['Numerica'])"
      ],
      "metadata": {
        "execution": {
          "iopub.status.busy": "2024-04-25T18:13:14.587276Z",
          "iopub.execute_input": "2024-04-25T18:13:14.587631Z",
          "iopub.status.idle": "2024-04-25T18:13:14.615482Z",
          "shell.execute_reply.started": "2024-04-25T18:13:14.587598Z",
          "shell.execute_reply": "2024-04-25T18:13:14.61389Z"
        },
        "trusted": true,
        "id": "aLN96Pq2Go1K"
      },
      "execution_count": null,
      "outputs": []
    },
    {
      "cell_type": "code",
      "source": [
        "df.isnull().sum().sort_values(ascending = False)"
      ],
      "metadata": {
        "execution": {
          "iopub.status.busy": "2024-04-25T18:13:14.61727Z",
          "iopub.execute_input": "2024-04-25T18:13:14.617729Z",
          "iopub.status.idle": "2024-04-25T18:13:14.64188Z",
          "shell.execute_reply.started": "2024-04-25T18:13:14.617692Z",
          "shell.execute_reply": "2024-04-25T18:13:14.640746Z"
        },
        "trusted": true,
        "id": "-Eyrys2OGo1K"
      },
      "execution_count": null,
      "outputs": []
    },
    {
      "cell_type": "markdown",
      "source": [
        "# Modelo de machine learning"
      ],
      "metadata": {
        "id": "qMblxSRPGo1L"
      }
    },
    {
      "cell_type": "markdown",
      "source": [
        "## PREPARACIÓN DE LOS DATOS PARA LA MODELIZACIÓN"
      ],
      "metadata": {
        "id": "b7jk9tVNGo1L"
      }
    },
    {
      "cell_type": "markdown",
      "source": [
        "### Transformar todas las variables categóricas a númericas"
      ],
      "metadata": {
        "id": "vFcWiElIGo1L"
      }
    },
    {
      "cell_type": "code",
      "source": [
        "from sklearn.preprocessing import OneHotEncoder\n",
        "\n",
        "#Categóricas\n",
        "cat = df.select_dtypes('O')\n",
        "\n",
        "#Instanciamos\n",
        "ohe = OneHotEncoder(sparse_output = False)\n",
        "\n",
        "#Entrenamos\n",
        "ohe.fit(cat)\n",
        "\n",
        "#Aplicamos\n",
        "cat_ohe = ohe.transform(cat)\n",
        "\n",
        "#Ponemos los nombres\n",
        "cat_ohe = pd.DataFrame(cat_ohe, columns = ohe.get_feature_names_out(input_features = cat.columns)).reset_index(drop = True)"
      ],
      "metadata": {
        "execution": {
          "iopub.status.busy": "2024-04-25T18:13:14.643455Z",
          "iopub.execute_input": "2024-04-25T18:13:14.643891Z",
          "iopub.status.idle": "2024-04-25T18:13:15.101608Z",
          "shell.execute_reply.started": "2024-04-25T18:13:14.643829Z",
          "shell.execute_reply": "2024-04-25T18:13:15.100411Z"
        },
        "trusted": true,
        "id": "LGHp245QGo1L"
      },
      "execution_count": null,
      "outputs": []
    },
    {
      "cell_type": "code",
      "source": [
        "pd.reset_option('display.max_rows')\n",
        "cat_ohe"
      ],
      "metadata": {
        "execution": {
          "iopub.status.busy": "2024-04-25T18:13:15.103408Z",
          "iopub.execute_input": "2024-04-25T18:13:15.103802Z",
          "iopub.status.idle": "2024-04-25T18:13:15.139956Z",
          "shell.execute_reply.started": "2024-04-25T18:13:15.10377Z",
          "shell.execute_reply": "2024-04-25T18:13:15.138495Z"
        },
        "trusted": true,
        "id": "D7_-d2LQGo1T"
      },
      "execution_count": null,
      "outputs": []
    },
    {
      "cell_type": "markdown",
      "source": [
        "### dataframe final\n",
        "Seleccionamos las variables numéricas para poder juntarlas a las cat_hoe"
      ],
      "metadata": {
        "id": "7UlREBk-Go1T"
      }
    },
    {
      "cell_type": "code",
      "source": [
        "num = df.select_dtypes('number').reset_index(drop = True)"
      ],
      "metadata": {
        "execution": {
          "iopub.status.busy": "2024-04-25T18:13:15.142087Z",
          "iopub.execute_input": "2024-04-25T18:13:15.142913Z",
          "iopub.status.idle": "2024-04-25T18:13:15.152443Z",
          "shell.execute_reply.started": "2024-04-25T18:13:15.142868Z",
          "shell.execute_reply": "2024-04-25T18:13:15.151119Z"
        },
        "trusted": true,
        "id": "Ke_tQOPSGo1T"
      },
      "execution_count": null,
      "outputs": []
    },
    {
      "cell_type": "markdown",
      "source": [
        "Las juntamos todas en el dataframe final"
      ],
      "metadata": {
        "id": "Lk6hCIXjGo1U"
      }
    },
    {
      "cell_type": "code",
      "source": [
        "df_ml = pd.concat([cat_ohe,num], axis = 1)\n",
        "df_ml"
      ],
      "metadata": {
        "execution": {
          "iopub.status.busy": "2024-04-25T18:13:15.153931Z",
          "iopub.execute_input": "2024-04-25T18:13:15.154306Z",
          "iopub.status.idle": "2024-04-25T18:13:15.190256Z",
          "shell.execute_reply.started": "2024-04-25T18:13:15.154274Z",
          "shell.execute_reply": "2024-04-25T18:13:15.189049Z"
        },
        "trusted": true,
        "id": "4N2jcQsIGo1U"
      },
      "execution_count": null,
      "outputs": []
    },
    {
      "cell_type": "markdown",
      "source": [
        "## separacion de dataframe"
      ],
      "metadata": {
        "id": "x5PwQv68Go1U"
      }
    },
    {
      "cell_type": "code",
      "source": [
        "df_train= df_ml[df_ml['SalePrice'].notnull()]\n",
        "df_test=df_ml[df_ml['SalePrice'].isnull()]\n",
        "df_test = df_test.drop(columns='SalePrice', errors='ignore')"
      ],
      "metadata": {
        "execution": {
          "iopub.status.busy": "2024-04-25T18:13:15.191247Z",
          "iopub.execute_input": "2024-04-25T18:13:15.191523Z",
          "iopub.status.idle": "2024-04-25T18:13:15.20429Z",
          "shell.execute_reply.started": "2024-04-25T18:13:15.191499Z",
          "shell.execute_reply": "2024-04-25T18:13:15.203159Z"
        },
        "trusted": true,
        "id": "ll3vamO5Go1U"
      },
      "execution_count": null,
      "outputs": []
    },
    {
      "cell_type": "code",
      "source": [
        "df_train.head()"
      ],
      "metadata": {
        "execution": {
          "iopub.status.busy": "2024-04-25T18:13:15.205744Z",
          "iopub.execute_input": "2024-04-25T18:13:15.206128Z",
          "iopub.status.idle": "2024-04-25T18:13:15.229409Z",
          "shell.execute_reply.started": "2024-04-25T18:13:15.206092Z",
          "shell.execute_reply": "2024-04-25T18:13:15.228058Z"
        },
        "trusted": true,
        "id": "nTLOXm3OGo1U"
      },
      "execution_count": null,
      "outputs": []
    },
    {
      "cell_type": "code",
      "source": [
        "df_test.head()"
      ],
      "metadata": {
        "execution": {
          "iopub.status.busy": "2024-04-25T18:13:15.230735Z",
          "iopub.execute_input": "2024-04-25T18:13:15.231111Z",
          "iopub.status.idle": "2024-04-25T18:13:15.256802Z",
          "shell.execute_reply.started": "2024-04-25T18:13:15.231082Z",
          "shell.execute_reply": "2024-04-25T18:13:15.255647Z"
        },
        "trusted": true,
        "id": "6ReGJmdlGo1U"
      },
      "execution_count": null,
      "outputs": []
    },
    {
      "cell_type": "markdown",
      "source": [
        "## diseño de la modelizacion"
      ],
      "metadata": {
        "id": "EAeKpvrEGo1U"
      }
    },
    {
      "cell_type": "markdown",
      "source": [
        "### separacion de predictoras y target"
      ],
      "metadata": {
        "id": "9xk_w0VvGo1V"
      }
    },
    {
      "cell_type": "code",
      "source": [
        "X = df_train.drop(columns='SalePrice')  # Características\n",
        "y = df_train['SalePrice']               # Variable objetivo"
      ],
      "metadata": {
        "execution": {
          "iopub.status.busy": "2024-04-25T18:13:15.261518Z",
          "iopub.execute_input": "2024-04-25T18:13:15.261816Z",
          "iopub.status.idle": "2024-04-25T18:13:15.271008Z",
          "shell.execute_reply.started": "2024-04-25T18:13:15.261787Z",
          "shell.execute_reply": "2024-04-25T18:13:15.269494Z"
        },
        "trusted": true,
        "id": "4rPeYCKsGo1V"
      },
      "execution_count": null,
      "outputs": []
    },
    {
      "cell_type": "markdown",
      "source": [
        "### Separación train y testSeparación train y test"
      ],
      "metadata": {
        "id": "_JxeT1BVGo1V"
      }
    },
    {
      "cell_type": "code",
      "source": [
        "from sklearn.model_selection import train_test_split\n",
        "X_train, X_test, y_train, y_test = train_test_split(X, y, test_size=0.2, random_state=42)"
      ],
      "metadata": {
        "execution": {
          "iopub.status.busy": "2024-04-25T18:13:15.272975Z",
          "iopub.execute_input": "2024-04-25T18:13:15.273434Z",
          "iopub.status.idle": "2024-04-25T18:13:15.394881Z",
          "shell.execute_reply.started": "2024-04-25T18:13:15.273403Z",
          "shell.execute_reply": "2024-04-25T18:13:15.393103Z"
        },
        "trusted": true,
        "id": "oU_nsbWdGo1V"
      },
      "execution_count": null,
      "outputs": []
    },
    {
      "cell_type": "markdown",
      "source": [
        "## entrenamiento de modelo sobre train"
      ],
      "metadata": {
        "id": "Fld24oF-Go1V"
      }
    },
    {
      "cell_type": "markdown",
      "source": [
        "### creacion del modelo"
      ],
      "metadata": {
        "id": "4PXFEvAmGo1V"
      }
    },
    {
      "cell_type": "code",
      "source": [
        "from sklearn.linear_model import LinearRegression\n",
        "regresion=LinearRegression()\n",
        "regresion.get_params()"
      ],
      "metadata": {
        "execution": {
          "iopub.status.busy": "2024-04-25T18:13:15.396286Z",
          "iopub.execute_input": "2024-04-25T18:13:15.396619Z",
          "iopub.status.idle": "2024-04-25T18:13:15.510194Z",
          "shell.execute_reply.started": "2024-04-25T18:13:15.396593Z",
          "shell.execute_reply": "2024-04-25T18:13:15.508808Z"
        },
        "trusted": true,
        "id": "8O5bp6OkGo1V"
      },
      "execution_count": null,
      "outputs": []
    },
    {
      "cell_type": "markdown",
      "source": [
        "### hiperparametros"
      ],
      "metadata": {
        "id": "Toy2JFxoGo1W"
      }
    },
    {
      "cell_type": "code",
      "source": [
        "from sklearn.model_selection import GridSearchCV\n",
        "\n",
        "# Parámetros para la regresión lineal\n",
        "params = {\n",
        "    'fit_intercept': [True, False],\n",
        "    'copy_X': [True, False],\n",
        "    'n_jobs': [None, -1],\n",
        "    'positive': [True, False]\n",
        "}\n",
        "\n",
        "# Crear la rejilla de búsqueda\n",
        "rejilla = GridSearchCV(regresion,\n",
        "                       params,\n",
        "                       scoring=\"neg_mean_squared_error\",\n",
        "                       cv=10)"
      ],
      "metadata": {
        "execution": {
          "iopub.status.busy": "2024-04-25T18:13:15.511922Z",
          "iopub.execute_input": "2024-04-25T18:13:15.512357Z",
          "iopub.status.idle": "2024-04-25T18:13:15.521492Z",
          "shell.execute_reply.started": "2024-04-25T18:13:15.51232Z",
          "shell.execute_reply": "2024-04-25T18:13:15.519872Z"
        },
        "trusted": true,
        "id": "Ap5mJQCOGo1W"
      },
      "execution_count": null,
      "outputs": []
    },
    {
      "cell_type": "code",
      "source": [
        "rejilla.fit(X_train, y_train)"
      ],
      "metadata": {
        "execution": {
          "iopub.status.busy": "2024-04-25T18:13:15.522535Z",
          "iopub.execute_input": "2024-04-25T18:13:15.522871Z",
          "iopub.status.idle": "2024-04-25T18:13:28.772611Z",
          "shell.execute_reply.started": "2024-04-25T18:13:15.522822Z",
          "shell.execute_reply": "2024-04-25T18:13:28.770728Z"
        },
        "trusted": true,
        "id": "0KQ8NAxzGo1W"
      },
      "execution_count": null,
      "outputs": []
    },
    {
      "cell_type": "code",
      "source": [
        "model= rejilla.best_estimator_"
      ],
      "metadata": {
        "execution": {
          "iopub.status.busy": "2024-04-25T18:13:28.773766Z",
          "iopub.execute_input": "2024-04-25T18:13:28.774144Z",
          "iopub.status.idle": "2024-04-25T18:13:28.780835Z",
          "shell.execute_reply.started": "2024-04-25T18:13:28.77411Z",
          "shell.execute_reply": "2024-04-25T18:13:28.778948Z"
        },
        "trusted": true,
        "id": "Zf_JwwKeGo1W"
      },
      "execution_count": null,
      "outputs": []
    },
    {
      "cell_type": "markdown",
      "source": [
        "# predecir"
      ],
      "metadata": {
        "id": "-dg7v7mJGo1W"
      }
    },
    {
      "cell_type": "code",
      "source": [
        "# Realizar predicciones\n",
        "predicciones = model.predict(df_test)\n",
        "\n",
        "# Agregar las predicciones al DataFrame\n",
        "df_test['SalePrice'] = predicciones"
      ],
      "metadata": {
        "execution": {
          "iopub.status.busy": "2024-04-25T18:13:28.782682Z",
          "iopub.execute_input": "2024-04-25T18:13:28.783116Z",
          "iopub.status.idle": "2024-04-25T18:13:28.810764Z",
          "shell.execute_reply.started": "2024-04-25T18:13:28.783085Z",
          "shell.execute_reply": "2024-04-25T18:13:28.80994Z"
        },
        "trusted": true,
        "id": "nuBiU-vSGo1W"
      },
      "execution_count": null,
      "outputs": []
    },
    {
      "cell_type": "code",
      "source": [
        "df_test.head()"
      ],
      "metadata": {
        "execution": {
          "iopub.status.busy": "2024-04-25T18:13:28.812391Z",
          "iopub.execute_input": "2024-04-25T18:13:28.813075Z",
          "iopub.status.idle": "2024-04-25T18:13:28.841275Z",
          "shell.execute_reply.started": "2024-04-25T18:13:28.813042Z",
          "shell.execute_reply": "2024-04-25T18:13:28.84037Z"
        },
        "trusted": true,
        "id": "CAocV4g3Go1X"
      },
      "execution_count": null,
      "outputs": []
    },
    {
      "cell_type": "code",
      "source": [
        "df= df_test[['Id','SalePrice']]\n",
        "df.head()"
      ],
      "metadata": {
        "execution": {
          "iopub.status.busy": "2024-04-25T18:13:28.842702Z",
          "iopub.execute_input": "2024-04-25T18:13:28.843319Z",
          "iopub.status.idle": "2024-04-25T18:13:28.855704Z",
          "shell.execute_reply.started": "2024-04-25T18:13:28.843289Z",
          "shell.execute_reply": "2024-04-25T18:13:28.854796Z"
        },
        "trusted": true,
        "id": "cUkwuhB-Go1X"
      },
      "execution_count": null,
      "outputs": []
    },
    {
      "cell_type": "code",
      "source": [
        "df.to_csv('submission.csv', index=False)"
      ],
      "metadata": {
        "execution": {
          "iopub.status.busy": "2024-04-25T18:13:28.857514Z",
          "iopub.execute_input": "2024-04-25T18:13:28.85821Z",
          "iopub.status.idle": "2024-04-25T18:13:28.869243Z",
          "shell.execute_reply.started": "2024-04-25T18:13:28.858165Z",
          "shell.execute_reply": "2024-04-25T18:13:28.868351Z"
        },
        "trusted": true,
        "id": "I2yoJ9F3Go1X"
      },
      "execution_count": null,
      "outputs": []
    }
  ]
}